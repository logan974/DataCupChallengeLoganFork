{
 "cells": [
  {
   "cell_type": "markdown",
   "id": "7cdfa773",
   "metadata": {},
   "source": [
    "# 🛳️ Dataset Titanic : Exploration et Analyse de Données avec Régression Logistique"
   ]
  },
  {
   "cell_type": "markdown",
   "id": "aee5d68e",
   "metadata": {},
   "source": [
    "\n",
    "Bienvenue dans cette analyse du dataset Titanic ! Dans ce notebook, nous allons explorer, préparer et analyser les données du Titanic, puis mettre en œuvre un modèle de **régression logistique** pour prédire la survie des passagers. Nous nous arrêtons ici pour comprendre en profondeur cette méthode simple et puissante.\n"
   ]
  },
  {
   "cell_type": "markdown",
   "id": "df51ef82",
   "metadata": {},
   "source": [
    "## Chapitre 1 - Analyse Exploratoire des Données (EDA) 🕵️‍♂️"
   ]
  },
  {
   "cell_type": "markdown",
   "id": "66bff071",
   "metadata": {},
   "source": [
    "\n",
    "**Objectif :** Avant de construire un modèle, il est crucial de **comprendre les données**. Dans cette partie, nous allons explorer le contenu du dataset, examiner les variables et identifier les valeurs manquantes ou les distributions intéressantes.\n"
   ]
  },
  {
   "cell_type": "markdown",
   "id": "f503a2dd",
   "metadata": {},
   "source": [
    "### 🚀 Étape 1 : Importation des Librairies"
   ]
  },
  {
   "cell_type": "code",
   "execution_count": 2,
   "id": "1cc7552b",
   "metadata": {},
   "outputs": [],
   "source": [
    "\n",
    "# Importation des bibliothèques principales\n",
    "import pandas as pd\n",
    "import numpy as np\n",
    "import matplotlib.pyplot as plt\n",
    "import seaborn as sns\n",
    "\n",
    "# Configuration de style pour les graphiques\n",
    "sns.set_theme(style=\"whitegrid\")\n"
   ]
  },
  {
   "cell_type": "markdown",
   "id": "e2e81201",
   "metadata": {},
   "source": [
    "### 📊 Étape 2 : Chargement des Données"
   ]
  },
  {
   "cell_type": "code",
   "execution_count": 4,
   "id": "9d1d0323",
   "metadata": {},
   "outputs": [
    {
     "data": {
      "text/html": [
       "<div>\n",
       "<style scoped>\n",
       "    .dataframe tbody tr th:only-of-type {\n",
       "        vertical-align: middle;\n",
       "    }\n",
       "\n",
       "    .dataframe tbody tr th {\n",
       "        vertical-align: top;\n",
       "    }\n",
       "\n",
       "    .dataframe thead th {\n",
       "        text-align: right;\n",
       "    }\n",
       "</style>\n",
       "<table border=\"1\" class=\"dataframe\">\n",
       "  <thead>\n",
       "    <tr style=\"text-align: right;\">\n",
       "      <th></th>\n",
       "      <th>PassengerId</th>\n",
       "      <th>Survived</th>\n",
       "      <th>Pclass</th>\n",
       "      <th>Name</th>\n",
       "      <th>Sex</th>\n",
       "      <th>Age</th>\n",
       "      <th>SibSp</th>\n",
       "      <th>Parch</th>\n",
       "      <th>Ticket</th>\n",
       "      <th>Fare</th>\n",
       "      <th>Cabin</th>\n",
       "      <th>Embarked</th>\n",
       "    </tr>\n",
       "  </thead>\n",
       "  <tbody>\n",
       "    <tr>\n",
       "      <th>0</th>\n",
       "      <td>1</td>\n",
       "      <td>0</td>\n",
       "      <td>3</td>\n",
       "      <td>Braund, Mr. Owen Harris</td>\n",
       "      <td>male</td>\n",
       "      <td>22.0</td>\n",
       "      <td>1</td>\n",
       "      <td>0</td>\n",
       "      <td>A/5 21171</td>\n",
       "      <td>7.2500</td>\n",
       "      <td>NaN</td>\n",
       "      <td>S</td>\n",
       "    </tr>\n",
       "    <tr>\n",
       "      <th>1</th>\n",
       "      <td>2</td>\n",
       "      <td>1</td>\n",
       "      <td>1</td>\n",
       "      <td>Cumings, Mrs. John Bradley (Florence Briggs Th...</td>\n",
       "      <td>female</td>\n",
       "      <td>38.0</td>\n",
       "      <td>1</td>\n",
       "      <td>0</td>\n",
       "      <td>PC 17599</td>\n",
       "      <td>71.2833</td>\n",
       "      <td>C85</td>\n",
       "      <td>C</td>\n",
       "    </tr>\n",
       "    <tr>\n",
       "      <th>2</th>\n",
       "      <td>3</td>\n",
       "      <td>1</td>\n",
       "      <td>3</td>\n",
       "      <td>Heikkinen, Miss. Laina</td>\n",
       "      <td>female</td>\n",
       "      <td>26.0</td>\n",
       "      <td>0</td>\n",
       "      <td>0</td>\n",
       "      <td>STON/O2. 3101282</td>\n",
       "      <td>7.9250</td>\n",
       "      <td>NaN</td>\n",
       "      <td>S</td>\n",
       "    </tr>\n",
       "    <tr>\n",
       "      <th>3</th>\n",
       "      <td>4</td>\n",
       "      <td>1</td>\n",
       "      <td>1</td>\n",
       "      <td>Futrelle, Mrs. Jacques Heath (Lily May Peel)</td>\n",
       "      <td>female</td>\n",
       "      <td>35.0</td>\n",
       "      <td>1</td>\n",
       "      <td>0</td>\n",
       "      <td>113803</td>\n",
       "      <td>53.1000</td>\n",
       "      <td>C123</td>\n",
       "      <td>S</td>\n",
       "    </tr>\n",
       "    <tr>\n",
       "      <th>4</th>\n",
       "      <td>5</td>\n",
       "      <td>0</td>\n",
       "      <td>3</td>\n",
       "      <td>Allen, Mr. William Henry</td>\n",
       "      <td>male</td>\n",
       "      <td>35.0</td>\n",
       "      <td>0</td>\n",
       "      <td>0</td>\n",
       "      <td>373450</td>\n",
       "      <td>8.0500</td>\n",
       "      <td>NaN</td>\n",
       "      <td>S</td>\n",
       "    </tr>\n",
       "  </tbody>\n",
       "</table>\n",
       "</div>"
      ],
      "text/plain": [
       "   PassengerId  Survived  Pclass  \\\n",
       "0            1         0       3   \n",
       "1            2         1       1   \n",
       "2            3         1       3   \n",
       "3            4         1       1   \n",
       "4            5         0       3   \n",
       "\n",
       "                                                Name     Sex   Age  SibSp  \\\n",
       "0                            Braund, Mr. Owen Harris    male  22.0      1   \n",
       "1  Cumings, Mrs. John Bradley (Florence Briggs Th...  female  38.0      1   \n",
       "2                             Heikkinen, Miss. Laina  female  26.0      0   \n",
       "3       Futrelle, Mrs. Jacques Heath (Lily May Peel)  female  35.0      1   \n",
       "4                           Allen, Mr. William Henry    male  35.0      0   \n",
       "\n",
       "   Parch            Ticket     Fare Cabin Embarked  \n",
       "0      0         A/5 21171   7.2500   NaN        S  \n",
       "1      0          PC 17599  71.2833   C85        C  \n",
       "2      0  STON/O2. 3101282   7.9250   NaN        S  \n",
       "3      0            113803  53.1000  C123        S  \n",
       "4      0            373450   8.0500   NaN        S  "
      ]
     },
     "execution_count": 4,
     "metadata": {},
     "output_type": "execute_result"
    }
   ],
   "source": [
    "\n",
    "# Chargement des données\n",
    "df = pd.read_csv('./dataset/Titanic-Dataset.csv')  # Remplacez par le chemin correct du fichier\n",
    "df.head()  # Affiche les 5 premières lignes du dataset\n"
   ]
  },
  {
   "cell_type": "markdown",
   "id": "2e9e5bd9",
   "metadata": {},
   "source": [
    "**Espace pour l'étudiant** : Prenez un moment pour observer la structure des données, les noms des colonnes et les premières valeurs."
   ]
  },
  {
   "cell_type": "markdown",
   "id": "74832a28",
   "metadata": {},
   "source": [
    "### 🔍 Étape 3 : Analyse des Variables et Valeurs Manquantes"
   ]
  },
  {
   "cell_type": "code",
   "execution_count": 5,
   "id": "2e45b68d",
   "metadata": {},
   "outputs": [
    {
     "data": {
      "text/plain": [
       "PassengerId      0\n",
       "Survived         0\n",
       "Pclass           0\n",
       "Name             0\n",
       "Sex              0\n",
       "Age            177\n",
       "SibSp            0\n",
       "Parch            0\n",
       "Ticket           0\n",
       "Fare             0\n",
       "Cabin          687\n",
       "Embarked         2\n",
       "dtype: int64"
      ]
     },
     "execution_count": 5,
     "metadata": {},
     "output_type": "execute_result"
    }
   ],
   "source": [
    "\n",
    "# Aperçu rapide des valeurs manquantes\n",
    "df.isnull().sum()\n"
   ]
  },
  {
   "cell_type": "markdown",
   "id": "e60dae5d",
   "metadata": {},
   "source": [
    "**Espace pour l'étudiant** : Notez quelles colonnes contiennent des valeurs manquantes et réfléchissez aux manières de les traiter."
   ]
  },
  {
   "cell_type": "markdown",
   "id": "885cb6a6",
   "metadata": {},
   "source": [
    "## Chapitre 2 - Préparation des Données ✂️"
   ]
  },
  {
   "cell_type": "markdown",
   "id": "0b889deb",
   "metadata": {},
   "source": [
    "\n",
    "**Objectif :** Nettoyer les données pour qu’elles soient prêtes pour la modélisation.\n"
   ]
  },
  {
   "cell_type": "markdown",
   "id": "2f4a99a5",
   "metadata": {},
   "source": [
    "### 🧹 Étape 4 : Traitement des Valeurs Manquantes"
   ]
  },
  {
   "cell_type": "code",
   "execution_count": 6,
   "id": "387f0e7b",
   "metadata": {},
   "outputs": [
    {
     "name": "stderr",
     "output_type": "stream",
     "text": [
      "/var/folders/k9/1xvg6x991594dlshm5qcjr7w0000gn/T/ipykernel_82277/1916868067.py:2: FutureWarning: A value is trying to be set on a copy of a DataFrame or Series through chained assignment using an inplace method.\n",
      "The behavior will change in pandas 3.0. This inplace method will never work because the intermediate object on which we are setting values always behaves as a copy.\n",
      "\n",
      "For example, when doing 'df[col].method(value, inplace=True)', try using 'df.method({col: value}, inplace=True)' or df[col] = df[col].method(value) instead, to perform the operation inplace on the original object.\n",
      "\n",
      "\n",
      "  df['Age'].fillna(df['Age'].median(), inplace=True)  # Remplace les valeurs manquantes dans 'Age' par la médiane\n"
     ]
    }
   ],
   "source": [
    "\n",
    "# Exemple de remplissage des valeurs manquantes\n",
    "df['Age'].fillna(df['Age'].median(), inplace=True)  # Remplace les valeurs manquantes dans 'Age' par la médiane\n",
    "df.drop(columns=['Cabin'], inplace=True)  # Suppression de 'Cabin' (trop de valeurs manquantes)\n"
   ]
  },
  {
   "cell_type": "markdown",
   "id": "c217f8e4",
   "metadata": {},
   "source": [
    "### 🔄 Étape 5 : Transformation des Variables Catégorielles"
   ]
  },
  {
   "cell_type": "code",
   "execution_count": 7,
   "id": "ed9eac3e",
   "metadata": {},
   "outputs": [],
   "source": [
    "\n",
    "# Encodage de la variable 'Sex'\n",
    "df = pd.get_dummies(df, columns=['Sex', 'Embarked'], drop_first=True)\n"
   ]
  },
  {
   "cell_type": "markdown",
   "id": "c2a60dfd",
   "metadata": {},
   "source": [
    "**Espace pour l'étudiant** : Réfléchissez aux autres variables catégorielles que vous pourriez encoder."
   ]
  },
  {
   "cell_type": "markdown",
   "id": "15107e36",
   "metadata": {},
   "source": [
    "## Chapitre 3 - Mise à l’Échelle des Données avec Scalers 📏"
   ]
  },
  {
   "cell_type": "markdown",
   "id": "0981e22b",
   "metadata": {},
   "source": [
    "\n",
    "**Objectif :** Mettre à l'échelle certaines variables numériques pour améliorer la performance du modèle.\n"
   ]
  },
  {
   "cell_type": "markdown",
   "id": "857a1bf5",
   "metadata": {},
   "source": [
    "### 🎛️ Étape 6 : Choix du Scaler"
   ]
  },
  {
   "cell_type": "code",
   "execution_count": 8,
   "id": "7188664b",
   "metadata": {},
   "outputs": [],
   "source": [
    "\n",
    "from sklearn.preprocessing import StandardScaler\n",
    "\n",
    "# Mise à l'échelle de la colonne 'Age' et 'Fare'\n",
    "scaler = StandardScaler()\n",
    "df[['Age', 'Fare']] = scaler.fit_transform(df[['Age', 'Fare']])\n"
   ]
  },
  {
   "cell_type": "markdown",
   "id": "80e12e61",
   "metadata": {},
   "source": [
    "## Chapitre 4 - Modélisation : Régression Logistique 🧠"
   ]
  },
  {
   "cell_type": "markdown",
   "id": "d4a1864e",
   "metadata": {},
   "source": [
    "\n",
    "La régression logistique est un modèle simple mais puissant pour les **problèmes de classification binaire** (ici, survivre ou non).\n"
   ]
  },
  {
   "cell_type": "markdown",
   "id": "2321742b",
   "metadata": {},
   "source": [
    "### ⚙️ Étape 7 : Séparation des Données"
   ]
  },
  {
   "cell_type": "code",
   "execution_count": 9,
   "id": "5b935905",
   "metadata": {},
   "outputs": [],
   "source": [
    "\n",
    "from sklearn.model_selection import train_test_split\n",
    "\n",
    "# Séparation des caractéristiques et de la cible\n",
    "X = df.drop(columns='Survived')\n",
    "y = df['Survived']\n",
    "\n",
    "# Division en ensembles d'entraînement et de test\n",
    "X_train, X_test, y_train, y_test = train_test_split(X, y, test_size=0.2, random_state=42)\n"
   ]
  },
  {
   "cell_type": "markdown",
   "id": "1595f9ca",
   "metadata": {},
   "source": [
    "### 🚀 Étape 8 : Entraînement et Évaluation du Modèle"
   ]
  },
  {
   "cell_type": "code",
   "execution_count": 12,
   "id": "096acb8e",
   "metadata": {},
   "outputs": [
    {
     "name": "stdout",
     "output_type": "stream",
     "text": [
      "Précision : 0.6480446927374302\n",
      "              precision    recall  f1-score   support\n",
      "\n",
      "           0       0.63      0.95      0.76       105\n",
      "           1       0.76      0.22      0.34        74\n",
      "\n",
      "    accuracy                           0.65       179\n",
      "   macro avg       0.70      0.58      0.55       179\n",
      "weighted avg       0.69      0.65      0.59       179\n",
      "\n"
     ]
    }
   ],
   "source": [
    "\n",
    "from sklearn.linear_model import LogisticRegression\n",
    "from sklearn.metrics import accuracy_score, classification_report\n",
    "\n",
    "# Entraînement du modèle\n",
    "model = LogisticRegression()\n",
    "model.fit(X_train[['Age', 'Fare']], y_train)\n",
    "\n",
    "# Prédiction et évaluation\n",
    "y_pred = model.predict(X_test[['Age', 'Fare']])\n",
    "print(\"Précision :\", accuracy_score(y_test, y_pred))\n",
    "print(classification_report(y_test, y_pred))\n"
   ]
  },
  {
   "cell_type": "markdown",
   "id": "1c4a3b08",
   "metadata": {},
   "source": [
    "**Espace pour l'étudiant** : Analysez la précision et le rapport de classification. Quels ajustements pourraient améliorer la performance ?"
   ]
  },
  {
   "cell_type": "markdown",
   "id": "8b66ad11",
   "metadata": {},
   "source": [
    "## 🏁 Conclusion"
   ]
  },
  {
   "cell_type": "markdown",
   "id": "4452c733",
   "metadata": {},
   "source": [
    "\n",
    "Nous avons exploré et préparé les données, puis entraîné un modèle de **régression logistique** pour prédire la survie des passagers du Titanic. Cette méthode est un point de départ efficace pour comprendre les bases de la modélisation de classification.\n",
    "\n",
    "🎉 Bravo d'avoir suivi ces étapes ! N'hésitez pas à explorer plus avant avec d'autres modèles pour approfondir votre compréhension.\n"
   ]
  }
 ],
 "metadata": {
  "kernelspec": {
   "display_name": "masterclassData",
   "language": "python",
   "name": "python3"
  },
  "language_info": {
   "codemirror_mode": {
    "name": "ipython",
    "version": 3
   },
   "file_extension": ".py",
   "mimetype": "text/x-python",
   "name": "python",
   "nbconvert_exporter": "python",
   "pygments_lexer": "ipython3",
   "version": "3.12.3"
  }
 },
 "nbformat": 4,
 "nbformat_minor": 5
}
